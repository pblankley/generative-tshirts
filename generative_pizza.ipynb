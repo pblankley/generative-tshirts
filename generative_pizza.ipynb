{
 "cells": [
  {
   "cell_type": "code",
   "execution_count": 1,
   "metadata": {},
   "outputs": [],
   "source": [
    "import os\n",
    "import struct\n",
    "from struct import unpack\n",
    "\n",
    "import numpy as np\n",
    "import matplotlib.pyplot as plt\n",
    "import torch"
   ]
  },
  {
   "cell_type": "code",
   "execution_count": 2,
   "metadata": {},
   "outputs": [],
   "source": [
    "# Helpers - credit \n",
    "# https://github.com/googlecreativelab/quickdraw-dataset/blob/master/examples/binary_file_parser.py\n",
    "def unpack_drawing(file_handle):\n",
    "    key_id, = unpack('Q', file_handle.read(8))\n",
    "    countrycode, = unpack('2s', file_handle.read(2))\n",
    "    recognized, = unpack('b', file_handle.read(1))\n",
    "    timestamp, = unpack('I', file_handle.read(4))\n",
    "    n_strokes, = unpack('H', file_handle.read(2))\n",
    "    image = []\n",
    "    for i in range(n_strokes):\n",
    "        n_points, = unpack('H', file_handle.read(2))\n",
    "        fmt = str(n_points) + 'B'\n",
    "        x = unpack(fmt, file_handle.read(n_points))\n",
    "        y = unpack(fmt, file_handle.read(n_points))\n",
    "        image.append((x, y))\n",
    "\n",
    "    return {\n",
    "        'key_id': key_id,\n",
    "        'countrycode': countrycode,\n",
    "        'recognized': recognized,\n",
    "        'timestamp': timestamp,\n",
    "        'image': image\n",
    "    }\n",
    "\n",
    "\n",
    "def unpack_drawings(filename):\n",
    "    with open(filename, 'rb') as f:\n",
    "        while True:\n",
    "            try:\n",
    "                yield unpack_drawing(f)\n",
    "            except struct.error:\n",
    "                break\n",
    "                \n",
    "# little function that displays vector images and saves them to .svg\n",
    "def draw_strokes(data, factor=0.2, svg_filename = '/tmp/sketch_rnn/svg/sample.svg'):\n",
    "    tf.gfile.MakeDirs(os.path.dirname(svg_filename))\n",
    "    min_x, max_x, min_y, max_y = get_bounds(data, factor)\n",
    "    dims = (50 + max_x - min_x, 50 + max_y - min_y)\n",
    "    dwg = svgwrite.Drawing(svg_filename, size=dims)\n",
    "    dwg.add(dwg.rect(insert=(0, 0), size=dims,fill='white'))\n",
    "    lift_pen = 1\n",
    "    abs_x = 25 - min_x \n",
    "    abs_y = 25 - min_y\n",
    "    p = \"M%s,%s \" % (abs_x, abs_y)\n",
    "    command = \"m\"\n",
    "    for i in xrange(len(data)):\n",
    "        if (lift_pen == 1):\n",
    "            command = \"m\"\n",
    "        elif (command != \"l\"):\n",
    "            command = \"l\"\n",
    "        else:\n",
    "            command = \"\"\n",
    "    x = float(data[i,0])/factor\n",
    "    y = float(data[i,1])/factor\n",
    "    lift_pen = data[i, 2]\n",
    "    p += command+str(x)+\",\"+str(y)+\" \"\n",
    "    the_color = \"black\"\n",
    "    stroke_width = 1\n",
    "    dwg.add(dwg.path(p).stroke(the_color,stroke_width).fill(\"none\"))\n",
    "    dwg.save()\n",
    "    display(SVG(dwg.tostring()))"
   ]
  },
  {
   "cell_type": "code",
   "execution_count": 3,
   "metadata": {},
   "outputs": [
    {
     "name": "stdout",
     "output_type": "stream",
     "text": [
      "[((147, 123, 0, 18, 61, 236, 243, 252, 255, 252, 231, 207, 198, 180, 136), (27, 40, 126, 136, 144, 158, 151, 127, 92, 63, 21, 3, 0, 0, 29)), ((177, 178, 204, 222, 225, 219), (1, 6, 37, 74, 132, 152)), ((165, 160, 158, 158, 167, 176, 180, 174, 160), (28, 28, 32, 47, 53, 53, 43, 29, 23)), ((112, 108, 106, 114, 125, 137, 144, 143, 138, 125, 114), (112, 113, 126, 134, 137, 135, 126, 116, 107, 104, 111)), ((45, 42, 45, 60, 72, 71, 68, 59, 51), (99, 108, 113, 115, 103, 94, 89, 88, 98)), ((201, 189, 186, 191, 201, 208, 207, 199, 191), (94, 104, 121, 130, 134, 129, 106, 94, 94)), ((132, 136), (58, 59))]\n",
      "b'US'\n"
     ]
    }
   ],
   "source": [
    "data_path = 'data/pizza.npy'\n",
    "data = np.load(data_path)\n",
    "\n",
    "bin_data_path = 'data/pizza.bin'\n",
    "\n",
    "for drawing in unpack_drawings(bin_data_path):\n",
    "    # do something with the drawing\n",
    "    print(drawing['image'])\n",
    "#     plt.imshow(drawing['image'])\n",
    "    print(drawing['countrycode'])\n",
    "    break"
   ]
  },
  {
   "cell_type": "code",
   "execution_count": 11,
   "metadata": {},
   "outputs": [
    {
     "name": "stdout",
     "output_type": "stream",
     "text": [
      "loading pizza drawings\n",
      "load complete\n",
      "124422\n"
     ]
    },
    {
     "data": {
      "text/plain": [
       "<matplotlib.image.AxesImage at 0x13e6980f0>"
      ]
     },
     "execution_count": 11,
     "metadata": {},
     "output_type": "execute_result"
    },
    {
     "data": {
      "image/png": "[encoded data removed]",
      "text/plain": [
       "<Figure size 432x288 with 1 Axes>"
      ]
     },
     "metadata": {
      "needs_background": "light"
     },
     "output_type": "display_data"
    }
   ],
   "source": [
    "from quickdraw import QuickDrawDataGroup\n",
    "\n",
    "pizzas = QuickDrawDataGroup(\"pizza\", max_drawings=124422)\n",
    "print(pizzas.drawing_count)\n",
    "plt.imshow(pizzas.get_drawing().image)"
   ]
  },
  {
   "cell_type": "code",
   "execution_count": 16,
   "metadata": {},
   "outputs": [
    {
     "name": "stdout",
     "output_type": "stream",
     "text": [
      "SG\n"
     ]
    },
    {
     "data": {
      "image/png": "[encoded data removed]",
      "text/plain": [
       "<Figure size 432x288 with 1 Axes>"
      ]
     },
     "metadata": {
      "needs_background": "light"
     },
     "output_type": "display_data"
    }
   ],
   "source": [
    "for drawing in pizzas.drawings:\n",
    "    plt.imshow(drawing.image)\n",
    "    break"
   ]
  },
  {
   "cell_type": "code",
   "execution_count": 18,
   "metadata": {},
   "outputs": [
    {
     "name": "stderr",
     "output_type": "stream",
     "text": [
      "/Users/paulblankley/GitHub/projects/generative-tshirts/venv/lib/python3.6/site-packages/ipykernel_launcher.py:2: DeprecationWarning: generator 'drawings' raised StopIteration\n",
      "  \n"
     ]
    }
   ],
   "source": [
    "\n",
    "codes = [d.countrycode for d in pizzas.drawings]"
   ]
  },
  {
   "cell_type": "code",
   "execution_count": 28,
   "metadata": {},
   "outputs": [
    {
     "data": {
      "image/png": "[encoded data removed]",
      "text/plain": [
       "<Figure size 720x576 with 1 Axes>"
      ]
     },
     "metadata": {
      "needs_background": "light"
     },
     "output_type": "display_data"
    }
   ],
   "source": [
    "\n",
    "import pandas as pd \n",
    "\n",
    "def vc_plot(df_col, title='', top_n=15):\n",
    "    fig,ax = plt.subplots(figsize=(10,8))\n",
    "    vc_series = pd.Series(df_col).value_counts(normalize=True).head(top_n).sort_values(ascending=True)\n",
    "    ax = vc_series.plot('barh', color='b', alpha=0.5, zorder=2, ax=ax)\n",
    "    ax.set_title(f'{title}.')\n",
    "    ax.set_xlabel('Quantity')\n",
    "    ax.grid(color='grey', zorder=1, alpha=.15)\n",
    "\n",
    "vc_plot(pd.Series(codes), title='Country of origin for pizza doodles')"
   ]
  },
  {
   "cell_type": "code",
   "execution_count": 4,
   "metadata": {},
   "outputs": [
    {
     "data": {
      "text/plain": [
       "<matplotlib.image.AxesImage at 0x12517af28>"
      ]
     },
     "execution_count": 4,
     "metadata": {},
     "output_type": "execute_result"
    },
    {
     "data": {
      "image/png": "[encoded data removed]",
      "text/plain": [
       "<Figure size 432x288 with 1 Axes>"
      ]
     },
     "metadata": {
      "needs_background": "light"
     },
     "output_type": "display_data"
    }
   ],
   "source": [
    "plt.imshow(data[0].reshape(28,28), cmap=plt.cm.gray_r)"
   ]
  },
  {
   "cell_type": "code",
   "execution_count": null,
   "metadata": {},
   "outputs": [],
   "source": []
  }
 ],
 "metadata": {
  "kernelspec": {
   "display_name": "Python 3",
   "language": "python",
   "name": "python3"
  },
  "language_info": {
   "codemirror_mode": {
    "name": "ipython",
    "version": 3
   },
   "file_extension": ".py",
   "mimetype": "text/x-python",
   "name": "python",
   "nbconvert_exporter": "python",
   "pygments_lexer": "ipython3",
   "version": "3.6.8"
  }
 },
 "nbformat": 4,
 "nbformat_minor": 2
}
